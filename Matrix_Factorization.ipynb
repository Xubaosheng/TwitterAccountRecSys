{
 "cells": [
  {
   "cell_type": "code",
   "execution_count": 12,
   "metadata": {},
   "outputs": [],
   "source": [
    "from sklearn.feature_extraction.text import TfidfVectorizer\n",
    "from sklearn.preprocessing import normalize\n",
    "import numpy as np\n",
    "import math\n",
    "import pandas as pd\n",
    "import matplotlib as mpl\n",
    "import matplotlib.pylab as plt"
   ]
  },
  {
   "cell_type": "code",
   "execution_count": 47,
   "metadata": {
    "collapsed": true
   },
   "outputs": [],
   "source": [
    "#Compute TF-IDF values for the given corpus.\n",
    "corpus = [];\n",
    "tf = TfidfVectorizer(analyzer='word', ngram_range=(1,1), min_df = 0, stop_words = 'english');\n",
    "tweet_matrix=[];\n",
    "def get_tfidf(corpus):\n",
    "    global tweet_matrix\n",
    "    tweet_matrix =  tf.fit_transform(corpus).todense();\n",
    "    corpus = corpus;"
   ]
  },
  {
   "cell_type": "code",
   "execution_count": 48,
   "metadata": {
    "collapsed": true
   },
   "outputs": [],
   "source": [
    "# Matrix Factorization via multiplicative update rule\n",
    "def nmf_kl_multiplicative(D, M, W, H, EPOCH=5000):\n",
    "    MD = D.copy()\n",
    "    MD[M==0] = 0\n",
    "    for e in range(EPOCH):\n",
    "        Xhat = W.dot(H)\n",
    "        W=W*np.array(((MD/Xhat).dot(H.T)/np.dot(M, H.T)))\n",
    "        Xhat = W.dot(H)\n",
    "        H = H*np.array((W.T.dot(MD/Xhat)/np.dot(W.T, M)))\n",
    "        #print(np.sum(np.abs(MD - M*Xhat))/np.sum(M))\n",
    "    return W, H"
   ]
  },
  {
   "cell_type": "code",
   "execution_count": 49,
   "metadata": {
    "collapsed": true
   },
   "outputs": [],
   "source": [
    "# Regularized Matrix Factorization \n",
    "def matrix_factorization(R, P, Q, K, steps=5000, alpha=0.0002, beta=0.02):\n",
    "    Q = Q.T\n",
    "    for step in range(steps):\n",
    "        for i in range(len(R)):\n",
    "            for j in range(len(R[i])):\n",
    "                if R[i][j] > 0:\n",
    "                    eij = R[i][j] - np.dot(P[i,:],Q[:,j])\n",
    "                    for k in range(K):\n",
    "                        P[i][k] = P[i][k] + alpha * (2 * eij * Q[k][j] - beta * P[i][k])\n",
    "                        Q[k][j] = Q[k][j] + alpha * (2 * eij * P[i][k] - beta * Q[k][j])\n",
    "        eR = np.dot(P,Q)\n",
    "        e = 0\n",
    "        for i in range(len(R)):\n",
    "            for j in range(len(R[i])):\n",
    "                if R[i][j] > 0:\n",
    "                    e = e + pow(R[i][j] - np.dot(P[i,:],Q[:,j]), 2)\n",
    "                    for k in range(K):\n",
    "                        e = e + (beta/2) * (pow(P[i][k],2) + pow(Q[k][j],2))\n",
    "        if e < 0.001:\n",
    "            break\n",
    "    return P, Q.T"
   ]
  },
  {
   "cell_type": "code",
   "execution_count": 124,
   "metadata": {},
   "outputs": [
    {
     "name": "stdout",
     "output_type": "stream",
     "text": [
      "['computer architecture and cpu design and embedded systems computer architecture and cpu design and embedded systems computer architecture and cpu design and embedded systems', 'rock n roll music', 'deep learning and neural networks', 'age of technology', 'political science', 'embedded systems and internet of things', 'embbeded design', 'jazz music', 'convolutional neural networks', 'developments in technology', 'political debate', 'embedded system design', 'computer architecture and cpu design and embedded systems', 'rock n roll music', 'deep learning and neural networks', 'age of technology', 'political science', 'embedded systems and internet of things', 'embbeded design', 'jazz music', 'convolutional neural networks', 'developments in technology', 'political debate', 'political debates relating internet and technology']\n"
     ]
    }
   ],
   "source": [
    "#Example Usage\n",
    "corpus=[] \n",
    "#Tweets\n",
    "user1_tweets = (\"computer architecture and cpu design and embedded systems computer architecture and cpu design and embedded systems computer architecture and cpu design and embedded systems\"); # String of last 100 tweets  \n",
    "user2_tweets = (\"rock n roll music\"); \n",
    "user3_tweets = (\"deep learning and neural networks\");\n",
    "user4_tweets = (\"age of technology\"); \n",
    "user5_tweets = (\"political science\"); \n",
    "user6_tweets = (\"embedded systems and internet of things\"); \n",
    "user7_tweets = (\"embbeded design\"); # String of last 100 tweets  \n",
    "user8_tweets = (\"jazz music\"); \n",
    "user9_tweets = (\"convolutional neural networks\");\n",
    "user10_tweets = (\"developments in technology\"); \n",
    "user11_tweets = (\"political debate\"); \n",
    "user12_tweets = (\"embedded system design\"); \n",
    "user13_tweets = (\"computer architecture and cpu design and embedded systems\"); # String of last 100 tweets  \n",
    "user14_tweets = (\"rock n roll music\"); \n",
    "user15_tweets = (\"deep learning and neural networks\");\n",
    "user16_tweets = (\"age of technology\"); \n",
    "user17_tweets = (\"political science\"); \n",
    "user18_tweets = (\"embedded systems and internet of things\"); \n",
    "user19_tweets = (\"embbeded design\"); # String of last 100 tweets  \n",
    "user20_tweets = (\"jazz music\"); \n",
    "user21_tweets = (\"convolutional neural networks\");\n",
    "user22_tweets = (\"developments in technology\"); \n",
    "user23_tweets = (\"political debate\"); \n",
    "user24_tweets = (\"political debates relating internet and technology\"); \n",
    "\n",
    "#Generate Corpus\n",
    "corpus.append(user1_tweets);\n",
    "corpus.append(user2_tweets);\n",
    "corpus.append(user3_tweets);\n",
    "corpus.append(user4_tweets);\n",
    "corpus.append(user5_tweets);\n",
    "corpus.append(user6_tweets);\n",
    "corpus.append(user7_tweets);\n",
    "corpus.append(user8_tweets);\n",
    "corpus.append(user9_tweets);\n",
    "corpus.append(user10_tweets);\n",
    "corpus.append(user11_tweets);\n",
    "corpus.append(user12_tweets);\n",
    "corpus.append(user13_tweets);\n",
    "corpus.append(user14_tweets);\n",
    "corpus.append(user15_tweets);\n",
    "corpus.append(user16_tweets);\n",
    "corpus.append(user17_tweets);\n",
    "corpus.append(user18_tweets);\n",
    "corpus.append(user19_tweets);\n",
    "corpus.append(user20_tweets);\n",
    "corpus.append(user21_tweets);\n",
    "corpus.append(user22_tweets);\n",
    "corpus.append(user23_tweets);\n",
    "corpus.append(user24_tweets);\n",
    "\n",
    "print(corpus)\n"
   ]
  },
  {
   "cell_type": "code",
   "execution_count": 198,
   "metadata": {},
   "outputs": [],
   "source": [
    "get_tfidf(corpus);\n",
    "\n",
    "ratings = np.array([5,1,4,3,1,5,5,1,3,3,1,5,5,1,4,3,1,5,5,1,np.nan,np.nan,np.nan,1]);\n",
    "ground_truth = np.array([5,1,4,3,1,5,5,1,3,3,1,5,5,1,4,3,1,5,5,1,3,3,1,1]);\n",
    "ground_truth=ground_truth.reshape(1,len(ratings));\n",
    "tweet_matrix = np.array(tweet_matrix).T;\n",
    "rating_matrix=ratings.reshape(1,len(ratings));\n",
    "tweet_matrix = np.append(rating_matrix,tweet_matrix,axis=0)\n",
    "\n",
    "def ShowMatrix(X,start,end,title=''):\n",
    "    plt.figure()\n",
    "    #plt.imshow(X[1:], interpolation='nearest',vmax=end,vmin=start)\n",
    "    #plt.colorbar()\n",
    "    #plt.set_cmap('jet')\n",
    "    #plt.xlabel('User')\n",
    "    #plt.ylabel('Tf-idf')\n",
    "    #plt.title(title)\n",
    "    #plt.show()\n",
    "    plt.imshow(X, interpolation='nearest',vmax=5,vmin=0)\n",
    "    plt.colorbar()\n",
    "    plt.set_cmap('jet')\n",
    "    plt.xlabel('User')\n",
    "    plt.ylabel('Rating')\n",
    "    plt.title(title)\n",
    "    plt.show()"
   ]
  },
  {
   "cell_type": "code",
   "execution_count": 199,
   "metadata": {},
   "outputs": [
    {
     "name": "stdout",
     "output_type": "stream",
     "text": [
      "Ground Truth:\n",
      "[[5 1 4 3 1 5 5 1 3 3 1 5 5 1 4 3 1 5 5 1 3 3 1 1]]\n",
      "Predictions:\n",
      "[ 5.  2.  4.  3.  2.  4.  4.  2.  3.  3.  2.  4.  5.  2.  4.  3.  2.  4.\n",
      "  4.  2.  3.  2.  2.  2.]\n"
     ]
    },
    {
     "data": {
      "image/png": "[encoded data removed]",
      "text/plain": [
       "<matplotlib.figure.Figure at 0x1dee7799c50>"
      ]
     },
     "metadata": {},
     "output_type": "display_data"
    },
    {
     "data": {
      "image/png": "[encoded data removed]",
      "text/plain": [
       "<matplotlib.figure.Figure at 0x1dee8e349b0>"
      ]
     },
     "metadata": {},
     "output_type": "display_data"
    }
   ],
   "source": [
    "# Matrix Factorization using multiplicative update\n",
    "\n",
    "#Rank\n",
    "R = 1\n",
    "\n",
    "# Data\n",
    "Nr = tweet_matrix.shape[0]\n",
    "Nc = tweet_matrix.shape[1]\n",
    "\n",
    "# Initialize W and H with random numbers\n",
    "W = np.random.rand(Nr, R)*100\n",
    "H = np.random.rand(R, Nc)*100\n",
    "\n",
    "#Mask\n",
    "Mask = np.ones_like(tweet_matrix)\n",
    "Mask[np.isnan(tweet_matrix)] = 0\n",
    "\n",
    "W,H = nmf_kl_multiplicative(tweet_matrix, Mask, W, H, EPOCH=10)\n",
    "Xhat = W.dot(H)\n",
    "\n",
    "predictions = np.round(Xhat[0].reshape(1,len(Xhat[0])))\n",
    "\n",
    "print(\"Ground Truth:\")\n",
    "print(ground_truth)\n",
    "print(\"Predictions:\")\n",
    "print(np.round(W.dot(H)[0]))\n",
    "\n",
    "\n",
    "ShowMatrix(ground_truth,0,5,'original')\n",
    "ShowMatrix(predictions,0,5,'original')\n",
    "\n",
    "\n",
    "#ShowMatrix(tweet_matrix,np.min(tweet_matrix[1:]),np.max(tweet_matrix[1:]),'original')\n",
    "#ShowMatrix(Xhat,np.min(tweet_matrix[1:]),np.max(tweet_matrix[1:]),'estimate')\n"
   ]
  },
  {
   "cell_type": "code",
   "execution_count": 200,
   "metadata": {},
   "outputs": [
    {
     "name": "stdout",
     "output_type": "stream",
     "text": [
      "Ground Truth:\n",
      "[[5 1 4 3 1 5 5 1 3 3 1 5 5 1 4 3 1 5 5 1 3 3 1 1]]\n",
      "Predictions:\n",
      "[ 5.  1.  4.  3.  1.  5.  5.  1.  3.  3.  1.  5.  5.  1.  4.  3.  1.  5.\n",
      "  5.  1.  3.  3.  2.  1.]\n"
     ]
    },
    {
     "data": {
      "image/png": "[encoded data removed]",
      "text/plain": [
       "<matplotlib.figure.Figure at 0x1dee8e1b0b8>"
      ]
     },
     "metadata": {},
     "output_type": "display_data"
    },
    {
     "data": {
      "image/png": "[encoded data removed]",
      "text/plain": [
       "<matplotlib.figure.Figure at 0x1dee785db70>"
      ]
     },
     "metadata": {},
     "output_type": "display_data"
    }
   ],
   "source": [
    "# Regularized Matrix Factorization\n",
    "\n",
    "R = tweet_matrix\n",
    " \n",
    "N = len(R)\n",
    "M = len(R[0])\n",
    "K = 2\n",
    " \n",
    "P = np.random.rand(N,K)\n",
    "Q = np.random.rand(M,K)\n",
    " \n",
    "nP, nQ = matrix_factorization(R, P, Q, K)\n",
    "nR = np.dot(nP, nQ.T)\n",
    "\n",
    "predictions =np.round(nR[0].reshape(1,len(nR[0])))\n",
    "\n",
    "print(\"Ground Truth:\")\n",
    "print(ground_truth)\n",
    "print(\"Predictions:\")\n",
    "print(np.around(nR[0]))\n",
    "\n",
    "\n",
    "ShowMatrix(ground_truth,0,5,'original')\n",
    "ShowMatrix(predictions,0,5,'original')\n",
    "\n",
    "\n",
    "#ShowMatrix(tweet_matrix,np.min(tweet_matrix[1:]),np.max(tweet_matrix[1:]),'original')\n",
    "#ShowMatrix(nR,np.min(tweet_matrix[1:]),np.max(tweet_matrix[1:]),'estimate')\n"
   ]
  },
  {
   "cell_type": "code",
   "execution_count": null,
   "metadata": {
    "collapsed": true
   },
   "outputs": [],
   "source": []
  }
 ],
 "metadata": {
  "kernelspec": {
   "display_name": "Python 3",
   "language": "python",
   "name": "python3"
  },
  "language_info": {
   "codemirror_mode": {
    "name": "ipython",
    "version": 3
   },
   "file_extension": ".py",
   "mimetype": "text/x-python",
   "name": "python",
   "nbconvert_exporter": "python",
   "pygments_lexer": "ipython3",
   "version": "3.6.3"
  }
 },
 "nbformat": 4,
 "nbformat_minor": 2
}
