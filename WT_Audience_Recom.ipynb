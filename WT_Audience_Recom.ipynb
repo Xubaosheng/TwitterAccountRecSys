{
 "cells": [
  {
   "cell_type": "code",
   "execution_count": 60,
   "metadata": {
    "collapsed": true
   },
   "outputs": [],
   "source": [
    "from IPython.display import Markdown, display # for markdown text\n",
    "import json # for json methods\n",
    "import pprint # to print human readable dictionary\n",
    "import pandas as pd # for visualizations\n",
    "import numpy as np\n",
    "from sklearn.feature_extraction.text import TfidfVectorizer # for TF-IDF"
   ]
  },
  {
   "cell_type": "code",
   "execution_count": 61,
   "metadata": {
    "collapsed": true
   },
   "outputs": [],
   "source": [
    "def printmd(string):\n",
    "    display(Markdown(string))"
   ]
  },
  {
   "cell_type": "code",
   "execution_count": 62,
   "metadata": {
    "collapsed": true
   },
   "outputs": [],
   "source": [
    "# Computes the TF-IDF values for the given corpus.\n",
    "tf = TfidfVectorizer(analyzer='word', ngram_range=(1,1), min_df = 0, stop_words = 'english');\n",
    "def get_tfidf(corpus):\n",
    "    return tf.fit_transform(corpus.copy()).todense();"
   ]
  },
  {
   "cell_type": "markdown",
   "metadata": {},
   "source": [
    "# DATA PREPARATION"
   ]
  },
  {
   "cell_type": "markdown",
   "metadata": {},
   "source": [
    "## All the topics in our database"
   ]
  },
  {
   "cell_type": "code",
   "execution_count": 69,
   "metadata": {
    "collapsed": false
   },
   "outputs": [
    {
     "name": "stdout",
     "output_type": "stream",
     "text": [
      "{'16': 'openhardware',\n",
      " '18': 'Data Science',\n",
      " '19': 'Big Data',\n",
      " '20': 'Artificial Intelligence',\n",
      " '21': 'Business Intelligence',\n",
      " '31': 'arduino',\n",
      " '32': 'raspberry pi',\n",
      " '33': '3d printer',\n",
      " '36': 'Deep Learning',\n",
      " '37': 'IoT',\n",
      " '38': '3d printing',\n",
      " '39': 'open hardware',\n",
      " '56': 'Wearable',\n",
      " '57': 'Sustainable finance',\n",
      " '59': 'Sustainable Finance',\n",
      " '60': 'Climate Finance',\n",
      " '61': 'Green Bonds',\n",
      " '62': 'Green Economy'}\n"
     ]
    }
   ],
   "source": [
    "topics = json.load(open('topics.txt'))\n",
    "pprint.pprint(topics)"
   ]
  },
  {
   "cell_type": "markdown",
   "metadata": {},
   "source": [
    "## The parameters in our scenario\n",
    "We are observing an audience, which is defined by two constraints: a topic and a location. Our example is the audience in Italy interested in the topic: Arduino."
   ]
  },
  {
   "cell_type": "code",
   "execution_count": 70,
   "metadata": {
    "collapsed": true
   },
   "outputs": [],
   "source": [
    "TOPIC_ID=31 # topic = arduino\n",
    "LOCATION = 'italy'\n",
    "SIGNAL_STRENGTH = 0 # this value indicates the min number of influencers the retrieved audience members follow within the topic\n",
    "LIMIT = 20 # number of audience members to consider\n",
    "TESTING_SET_SIZE=5 \n",
    "HOW_MANY_TWEETS = 50 # amount of most recent tweets (including retweets) to be retrieved to consider in our recommendation engine\n",
    "INCLUDE_RETWEETS = True"
   ]
  },
  {
   "cell_type": "code",
   "execution_count": 71,
   "metadata": {
    "collapsed": true
   },
   "outputs": [],
   "source": [
    "rated_audience_dict = json.load(open('rated_audience.txt'))\n",
    "unrated_audience_dict = json.load(open('unrated_audience.txt'))"
   ]
  },
  {
   "cell_type": "code",
   "execution_count": 72,
   "metadata": {
    "collapsed": false
   },
   "outputs": [
    {
     "data": {
      "text/markdown": [
       "## An example Twitter profile with all the data fields at this point."
      ],
      "text/plain": [
       "<IPython.core.display.Markdown object>"
      ]
     },
     "metadata": {},
     "output_type": "display_data"
    },
    {
     "data": {
      "text/markdown": [
       "### Topic: arduino"
      ],
      "text/plain": [
       "<IPython.core.display.Markdown object>"
      ]
     },
     "metadata": {},
     "output_type": "display_data"
    },
    {
     "name": "stdout",
     "output_type": "stream",
     "text": [
      "{'description': 'Chief Innovation Officer at NTT DATA Italia , proud father of '\n",
      "                'two beautiful girls, a professor, a technology evangelist, an '\n",
      "                'holistic thinker and a gentleman.',\n",
      " 'ground_truth_rating': 1.0,\n",
      " 'hashtags': 'Milano CheTempoFa Milano CheTempoFa foi13 Cefriel fvw2013 '\n",
      "             'fvw2013 fvw2013 storytelling Vajont Milano CheTempoFa '\n",
      "             'StartupWeekend GrandC4Picasso makerfairerome MakerFaireRome '\n",
      "             'GrandC4Picasso GrandC4Picasso',\n",
      " 'influencers': '266400754 84094835 767285',\n",
      " 'location': 'Milan, Italy',\n",
      " 'screen_name': 'funkysurfer',\n",
      " 'tweets': 'at Cascina Matiot Disturbi di Con Edi Touch è più facile il tuo '\n",
      "           'quello via Startup weekend 3 giorni al A Milano Decoded Milano '\n",
      "           'capitale della via October 2013 Rain Massima Minima La nuova '\n",
      "           'scienza è una narrazione aperta grazie ad Questo progetto nasce '\n",
      "           'per via Milano handmade col Craft Camp di a Pisa ItCup A Roncade '\n",
      "           'in Veneto via October 2013 PM Showers Massima Minima at Frijenno '\n",
      "           'Magnanno Want to come to with a Check out the offer that has '\n",
      "           'reserved its Makers vs Todd Blatt è un ingegnere meccanico di '\n",
      "           'Baltimora appassionato di via certamente General Meeting Aula '\n",
      "           'Osvaldo De Big la qualità è più importante della Linkedin ha uno '\n",
      "           'dei migliori team di via FabLab a scuola per il Il futuro sarà Si '\n",
      "           'è parlato di futuro via è startup Pillole di Futuro sui Startup e '\n",
      "           'via A Facebook si procede per a Stanford per Vivere con la rete '\n",
      "           'vuol via Oggi una signora mi si è avvicinata ed ha Sarà la '\n",
      "           'somiglianza Bevo solo nei giorni che cominciano per The '\n",
      "           'translation for CHEEKY is Sfaccimme dixit at on stage here at '\n",
      "           'talking about Pirelli social life Teatro Elfo Puccini 7 Smart City '\n",
      "           'un luogo di lavoro e Da Boston a da via access è una Oppure lo è '\n",
      "           'la peer access è una via la Rete incubatore di via Festival via i '\n",
      "           'primi passi Ogni nostra via Perché artigiani e maker fanno fatica '\n",
      "           'a parlarsi che fare a Dopo il successo via ci racconta e Qesse '\n",
      "           'Academy - quando lo educa e emancipa Oggi 50 anni da tragedia del '\n",
      "           'visitate il memoriale 1 scheda x ognuno dei 1910 E contrubuite La '\n",
      "           'città di domani in gara al Solar Decathlon Densità convenienza via '\n",
      "           'Sapienza focus sulla produzione di novità e è un via October 2013 '\n",
      "           'Rain Massima Minima Pensando al mio amico Marco - e ciò che il '\n",
      "           'futuro sarà A Google con Hal Poi a sede della ricerca mai '\n",
      "           'dimenticare via Italiani di diario del tour in Silicon I più '\n",
      "           'fortunati han dormito tre via Per la il nostro Coach è pronto ad '\n",
      "           'aiutarvi a realizzare la vostra Info su coreana al buon uso della '\n",
      "           'Yuhyun Park ha 38 un via Finanza sociale e oggi Uman Foundation '\n",
      "           'alla Per uscire dalla crisi via Alla fiera di due Arduino il maker '\n",
      "           'at Liceo scientifico Filippo Lussana Brand e video 7 consigli per '\n",
      "           'una distribuzione in Italia se vuoi via il vincitore di TechCrunch '\n",
      "           'Quando pochi giorni nel gran finale di via media e stamattina il '\n",
      "           'punto del Come si è trasformato il via Ci vediamo alla prossima '\n",
      "           'Maker Faire at Aeroporto di Milano Malpensa di Nuove - Somma 24 '\n",
      "           'others Grazie per averci raccontato la vostra 35mila persone alla '\n",
      "           'Grazie a Ancora cinque ore prima della divertitevi e cambiate il '\n",
      "           'in due per per fortuna parcheggia da CC uno sa usare lo il The odd '\n",
      "           'couple Non sono più capace di guidare con il cambio manuale e sono '\n",
      "           'sopravvissuto alla guida di'}\n"
     ]
    }
   ],
   "source": [
    "printmd(\"## An example Twitter profile with all the data fields at this point.\")\n",
    "printmd(\"### Topic: \" + topics[str(TOPIC_ID)])\n",
    "pprint.pprint(next (iter (rated_audience_dict.values())))"
   ]
  },
  {
   "cell_type": "markdown",
   "metadata": {},
   "source": [
    "## Separate the data into different arrays"
   ]
  },
  {
   "cell_type": "code",
   "execution_count": 73,
   "metadata": {
    "collapsed": false
   },
   "outputs": [],
   "source": [
    "screen_names = [aud['screen_name'] for aud in rated_audience_dict.values()]\n",
    "influencers_corpus = [aud['influencers'] for aud in rated_audience_dict.values()]\n",
    "tweets_corpus = [aud['tweets'] for aud in rated_audience_dict.values()]\n",
    "hashtags_corpus = [aud['hashtags'] for aud in rated_audience_dict.values()]\n",
    "description_corpus = [aud['description'] for aud in rated_audience_dict.values()]\n",
    "ground_truth_ratings = np.array(2*[aud['ground_truth_rating'] for aud in rated_audience_dict.values()])\n",
    "#print(tweets_corpus)"
   ]
  },
  {
   "cell_type": "code",
   "execution_count": 74,
   "metadata": {
    "collapsed": false
   },
   "outputs": [],
   "source": [
    "# INFLUENCER MATRICES\n",
    "tfidf_influencer_matrix = np.array(get_tfidf(influencers_corpus)).T;\n",
    "binary_influencer_matrix = tfidf_influencer_matrix.copy()\n",
    "binary_influencer_matrix[binary_influencer_matrix>0]=1\n",
    "\n",
    "# TWEET MATRICES\n",
    "tfidf_tweet_matrix=np.array(get_tfidf(tweets_corpus)).T;\n",
    "binary_tweet_matrix = tfidf_tweet_matrix.copy()\n",
    "binary_tweet_matrix[binary_tweet_matrix>0]=1\n",
    "\n",
    "# DESCRIPTION MATRICES\n",
    "tfidf_description_matrix = np.array(get_tfidf(description_corpus)).T;\n",
    "binary_description_matrix = tfidf_description_matrix.copy()\n",
    "binary_description_matrix[binary_description_matrix>0]=1\n",
    "\n",
    "# HASHTAGS MATRICES\n",
    "tfidf_hashtags_matrix = np.array(get_tfidf(hashtags_corpus)).T;\n",
    "binary_hashtags_matrix = tfidf_hashtags_matrix.copy()\n",
    "binary_hashtags_matrix[binary_hashtags_matrix>0]=1"
   ]
  },
  {
   "cell_type": "markdown",
   "metadata": {},
   "source": [
    "# "
   ]
  },
  {
   "cell_type": "markdown",
   "metadata": {},
   "source": [
    "# Method A\n",
    "## Logistic Regression using the similarities coming from user profiling (fixed parameters)"
   ]
  },
  {
   "cell_type": "markdown",
   "metadata": {},
   "source": [
    "# Method B\n",
    "## Logistic Regression using the similarities coming from user profiling (relaxed parameters)"
   ]
  },
  {
   "cell_type": "markdown",
   "metadata": {},
   "source": [
    "# Method C \n",
    "## Non-negative Matrix Factorization (NMF) without the ratings row = Document Clustering"
   ]
  },
  {
   "cell_type": "markdown",
   "metadata": {},
   "source": [
    "# Method D \n",
    "## Non-negative Matrix Factorization (NMF) with the ratings row (more weight on errors caused by row 0)"
   ]
  },
  {
   "cell_type": "markdown",
   "metadata": {},
   "source": [
    "# Method E \n",
    "## Non-negative Matrix Factorization (NMF) with the ratings row"
   ]
  },
  {
   "cell_type": "code",
   "execution_count": null,
   "metadata": {
    "collapsed": true
   },
   "outputs": [],
   "source": [
    "# Method 1\n",
    "## Logistic Regression using the similarities coming from user profiling"
   ]
  }
 ],
 "metadata": {
  "kernelspec": {
   "display_name": "python3env",
   "language": "python",
   "name": "python3env"
  },
  "language_info": {
   "codemirror_mode": {
    "name": "ipython",
    "version": 3
   },
   "file_extension": ".py",
   "mimetype": "text/x-python",
   "name": "python",
   "nbconvert_exporter": "python",
   "pygments_lexer": "ipython3",
   "version": "3.6.2"
  }
 },
 "nbformat": 4,
 "nbformat_minor": 2
}
